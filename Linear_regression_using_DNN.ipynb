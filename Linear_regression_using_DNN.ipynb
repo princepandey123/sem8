{
 "cells": [
  {
   "cell_type": "code",
   "execution_count": 12,
   "metadata": {
    "id": "642bSOecxDcf"
   },
   "outputs": [],
   "source": [
    "import tensorflow as tf\n",
    "import numpy as np\n",
    "import pandas as pd\n",
    "import matplotlib.pyplot as plt\n",
    "%matplotlib inline\n",
    "\n",
    "from sklearn import preprocessing\n",
    "from sklearn.model_selection import train_test_split\n",
    "from sklearn.metrics import mean_squared_error\n",
    "\n",
    "from sklearn.model_selection import train_test_split\n",
    "from sklearn.preprocessing import StandardScaler\n",
    "from keras.models import Sequential\n",
    "from keras.layers import Dense"
   ]
  },
  {
   "cell_type": "code",
   "execution_count": 13,
   "metadata": {
    "colab": {
     "base_uri": "https://localhost:8080/",
     "height": 363
    },
    "id": "JHep43E-x7kk",
    "outputId": "94647457-9538-4b1d-9757-eaf32084cced"
   },
   "outputs": [
    {
     "data": {
      "text/html": [
       "<div>\n",
       "<style scoped>\n",
       "    .dataframe tbody tr th:only-of-type {\n",
       "        vertical-align: middle;\n",
       "    }\n",
       "\n",
       "    .dataframe tbody tr th {\n",
       "        vertical-align: top;\n",
       "    }\n",
       "\n",
       "    .dataframe thead th {\n",
       "        text-align: right;\n",
       "    }\n",
       "</style>\n",
       "<table border=\"1\" class=\"dataframe\">\n",
       "  <thead>\n",
       "    <tr style=\"text-align: right;\">\n",
       "      <th></th>\n",
       "      <th>CRIM</th>\n",
       "      <th>ZN</th>\n",
       "      <th>INDUS</th>\n",
       "      <th>CHAS</th>\n",
       "      <th>NOX</th>\n",
       "      <th>RM</th>\n",
       "      <th>AGE</th>\n",
       "      <th>DIS</th>\n",
       "      <th>RAD</th>\n",
       "      <th>TAX</th>\n",
       "      <th>PTRATIO</th>\n",
       "      <th>B</th>\n",
       "      <th>LSTAT</th>\n",
       "      <th>MEDV</th>\n",
       "    </tr>\n",
       "  </thead>\n",
       "  <tbody>\n",
       "    <tr>\n",
       "      <th>0</th>\n",
       "      <td>0.00632</td>\n",
       "      <td>18.0</td>\n",
       "      <td>2.31</td>\n",
       "      <td>0.0</td>\n",
       "      <td>0.538</td>\n",
       "      <td>6.575</td>\n",
       "      <td>65.2</td>\n",
       "      <td>4.0900</td>\n",
       "      <td>1</td>\n",
       "      <td>296</td>\n",
       "      <td>15.3</td>\n",
       "      <td>396.90</td>\n",
       "      <td>4.98</td>\n",
       "      <td>24.0</td>\n",
       "    </tr>\n",
       "    <tr>\n",
       "      <th>1</th>\n",
       "      <td>0.02731</td>\n",
       "      <td>0.0</td>\n",
       "      <td>7.07</td>\n",
       "      <td>0.0</td>\n",
       "      <td>0.469</td>\n",
       "      <td>6.421</td>\n",
       "      <td>78.9</td>\n",
       "      <td>4.9671</td>\n",
       "      <td>2</td>\n",
       "      <td>242</td>\n",
       "      <td>17.8</td>\n",
       "      <td>396.90</td>\n",
       "      <td>9.14</td>\n",
       "      <td>21.6</td>\n",
       "    </tr>\n",
       "    <tr>\n",
       "      <th>2</th>\n",
       "      <td>0.02729</td>\n",
       "      <td>0.0</td>\n",
       "      <td>7.07</td>\n",
       "      <td>0.0</td>\n",
       "      <td>0.469</td>\n",
       "      <td>7.185</td>\n",
       "      <td>61.1</td>\n",
       "      <td>4.9671</td>\n",
       "      <td>2</td>\n",
       "      <td>242</td>\n",
       "      <td>17.8</td>\n",
       "      <td>392.83</td>\n",
       "      <td>4.03</td>\n",
       "      <td>34.7</td>\n",
       "    </tr>\n",
       "    <tr>\n",
       "      <th>3</th>\n",
       "      <td>0.03237</td>\n",
       "      <td>0.0</td>\n",
       "      <td>2.18</td>\n",
       "      <td>0.0</td>\n",
       "      <td>0.458</td>\n",
       "      <td>6.998</td>\n",
       "      <td>45.8</td>\n",
       "      <td>6.0622</td>\n",
       "      <td>3</td>\n",
       "      <td>222</td>\n",
       "      <td>18.7</td>\n",
       "      <td>394.63</td>\n",
       "      <td>2.94</td>\n",
       "      <td>33.4</td>\n",
       "    </tr>\n",
       "    <tr>\n",
       "      <th>4</th>\n",
       "      <td>0.06905</td>\n",
       "      <td>0.0</td>\n",
       "      <td>2.18</td>\n",
       "      <td>0.0</td>\n",
       "      <td>0.458</td>\n",
       "      <td>7.147</td>\n",
       "      <td>54.2</td>\n",
       "      <td>6.0622</td>\n",
       "      <td>3</td>\n",
       "      <td>222</td>\n",
       "      <td>18.7</td>\n",
       "      <td>396.90</td>\n",
       "      <td>NaN</td>\n",
       "      <td>36.2</td>\n",
       "    </tr>\n",
       "  </tbody>\n",
       "</table>\n",
       "</div>"
      ],
      "text/plain": [
       "      CRIM    ZN  INDUS  CHAS    NOX     RM   AGE     DIS  RAD  TAX  PTRATIO   \n",
       "0  0.00632  18.0   2.31   0.0  0.538  6.575  65.2  4.0900    1  296     15.3  \\\n",
       "1  0.02731   0.0   7.07   0.0  0.469  6.421  78.9  4.9671    2  242     17.8   \n",
       "2  0.02729   0.0   7.07   0.0  0.469  7.185  61.1  4.9671    2  242     17.8   \n",
       "3  0.03237   0.0   2.18   0.0  0.458  6.998  45.8  6.0622    3  222     18.7   \n",
       "4  0.06905   0.0   2.18   0.0  0.458  7.147  54.2  6.0622    3  222     18.7   \n",
       "\n",
       "        B  LSTAT  MEDV  \n",
       "0  396.90   4.98  24.0  \n",
       "1  396.90   9.14  21.6  \n",
       "2  392.83   4.03  34.7  \n",
       "3  394.63   2.94  33.4  \n",
       "4  396.90    NaN  36.2  "
      ]
     },
     "execution_count": 13,
     "metadata": {},
     "output_type": "execute_result"
    }
   ],
   "source": [
    "df = pd.read_csv(r'HousingData.csv')\n",
    "df.head(5)"
   ]
  },
  {
   "cell_type": "code",
   "execution_count": 14,
   "metadata": {
    "colab": {
     "base_uri": "https://localhost:8080/"
    },
    "id": "eK_JRSl03_wj",
    "outputId": "39bca078-2b2d-42ba-adfa-af3f61797a72"
   },
   "outputs": [
    {
     "data": {
      "text/plain": [
       "CRIM       20\n",
       "ZN         20\n",
       "INDUS      20\n",
       "CHAS       20\n",
       "NOX         0\n",
       "RM          0\n",
       "AGE        20\n",
       "DIS         0\n",
       "RAD         0\n",
       "TAX         0\n",
       "PTRATIO     0\n",
       "B           0\n",
       "LSTAT      20\n",
       "MEDV        0\n",
       "dtype: int64"
      ]
     },
     "execution_count": 14,
     "metadata": {},
     "output_type": "execute_result"
    }
   ],
   "source": [
    "df.isnull().sum()"
   ]
  },
  {
   "cell_type": "code",
   "execution_count": 15,
   "metadata": {
    "id": "Afpk5CC0y9b9"
   },
   "outputs": [],
   "source": [
    "df = df.fillna(df.mean())"
   ]
  },
  {
   "cell_type": "code",
   "execution_count": 16,
   "metadata": {
    "colab": {
     "base_uri": "https://localhost:8080/"
    },
    "id": "leDzLvIQzAMl",
    "outputId": "cc2bc552-bb4f-4863-8d0d-b112c59cb009"
   },
   "outputs": [
    {
     "data": {
      "text/plain": [
       "CRIM       0\n",
       "ZN         0\n",
       "INDUS      0\n",
       "CHAS       0\n",
       "NOX        0\n",
       "RM         0\n",
       "AGE        0\n",
       "DIS        0\n",
       "RAD        0\n",
       "TAX        0\n",
       "PTRATIO    0\n",
       "B          0\n",
       "LSTAT      0\n",
       "MEDV       0\n",
       "dtype: int64"
      ]
     },
     "execution_count": 16,
     "metadata": {},
     "output_type": "execute_result"
    }
   ],
   "source": [
    "df.isnull().sum()"
   ]
  },
  {
   "cell_type": "code",
   "execution_count": 17,
   "metadata": {
    "id": "lldSDwHh3WzH"
   },
   "outputs": [],
   "source": [
    "X=df.iloc[:,df.columns!='MEDV']\n",
    "y=df.iloc[:,df.columns=='MEDV']\n",
    "\n",
    "\n",
    "X_train, X_test, y_train, y_test = train_test_split(X, y, test_size=0.2, random_state=123)"
   ]
  },
  {
   "cell_type": "code",
   "execution_count": 18,
   "metadata": {
    "colab": {
     "base_uri": "https://localhost:8080/"
    },
    "id": "yq5NjVaQy5GG",
    "outputId": "171cebbc-38bc-44b9-8348-b8caf52f2f47"
   },
   "outputs": [
    {
     "name": "stdout",
     "output_type": "stream",
     "text": [
      "Model: \"sequential_1\"\n",
      "_________________________________________________________________\n",
      " Layer (type)                Output Shape              Param #   \n",
      "=================================================================\n",
      " dense_1 (Dense)             (None, 128)               1792      \n",
      "                                                                 \n",
      " dense_2 (Dense)             (None, 64)                8256      \n",
      "                                                                 \n",
      " dense_output (Dense)        (None, 1)                 65        \n",
      "                                                                 \n",
      "=================================================================\n",
      "Total params: 10,113\n",
      "Trainable params: 10,113\n",
      "Non-trainable params: 0\n",
      "_________________________________________________________________\n"
     ]
    }
   ],
   "source": [
    "model = Sequential()\n",
    "\n",
    "model.add(Dense(128, input_shape=(13, ), activation='relu', name='dense_1'))\n",
    "model.add(Dense(64, activation='relu', name='dense_2'))\n",
    "model.add(Dense(1, activation='linear', name='dense_output'))\n",
    "\n",
    "model.compile(optimizer='adam', loss='mean_squared_error')\n",
    "model.summary()"
   ]
  },
  {
   "cell_type": "code",
   "execution_count": 19,
   "metadata": {
    "colab": {
     "base_uri": "https://localhost:8080/"
    },
    "id": "OiP4Pyxcy7Ag",
    "outputId": "c300130c-1f42-42d3-a51f-6fa3f3da3051"
   },
   "outputs": [
    {
     "name": "stdout",
     "output_type": "stream",
     "text": [
      "Epoch 1/100\n",
      "12/12 [==============================] - 1s 25ms/step - loss: 3115.7278 - val_loss: 1303.2367\n",
      "Epoch 2/100\n",
      "12/12 [==============================] - 0s 9ms/step - loss: 523.8958 - val_loss: 490.2068\n",
      "Epoch 3/100\n",
      "12/12 [==============================] - 0s 9ms/step - loss: 248.1408 - val_loss: 218.7457\n",
      "Epoch 4/100\n",
      "12/12 [==============================] - 0s 7ms/step - loss: 125.2644 - val_loss: 131.3277\n",
      "Epoch 5/100\n",
      "12/12 [==============================] - 0s 9ms/step - loss: 90.9242 - val_loss: 114.7331\n",
      "Epoch 6/100\n",
      "12/12 [==============================] - 0s 7ms/step - loss: 75.4435 - val_loss: 104.2661\n",
      "Epoch 7/100\n",
      "12/12 [==============================] - 0s 9ms/step - loss: 70.5981 - val_loss: 105.0952\n",
      "Epoch 8/100\n",
      "12/12 [==============================] - 0s 7ms/step - loss: 67.5340 - val_loss: 103.2333\n",
      "Epoch 9/100\n",
      "12/12 [==============================] - 0s 7ms/step - loss: 64.8037 - val_loss: 102.2034\n",
      "Epoch 10/100\n",
      "12/12 [==============================] - 0s 6ms/step - loss: 63.3908 - val_loss: 102.3700\n",
      "Epoch 11/100\n",
      "12/12 [==============================] - 0s 7ms/step - loss: 61.9231 - val_loss: 100.9817\n",
      "Epoch 12/100\n",
      "12/12 [==============================] - 0s 8ms/step - loss: 60.4997 - val_loss: 103.9482\n",
      "Epoch 13/100\n",
      "12/12 [==============================] - 0s 8ms/step - loss: 59.6444 - val_loss: 100.4674\n",
      "Epoch 14/100\n",
      "12/12 [==============================] - 0s 7ms/step - loss: 58.5972 - val_loss: 99.7483\n",
      "Epoch 15/100\n",
      "12/12 [==============================] - 0s 8ms/step - loss: 59.3284 - val_loss: 99.0473\n",
      "Epoch 16/100\n",
      "12/12 [==============================] - 0s 5ms/step - loss: 57.2646 - val_loss: 109.3903\n",
      "Epoch 17/100\n",
      "12/12 [==============================] - 0s 7ms/step - loss: 56.8702 - val_loss: 96.5821\n",
      "Epoch 18/100\n",
      "12/12 [==============================] - 0s 8ms/step - loss: 52.5622 - val_loss: 96.5000\n",
      "Epoch 19/100\n",
      "12/12 [==============================] - 0s 7ms/step - loss: 50.1033 - val_loss: 93.6803\n",
      "Epoch 20/100\n",
      "12/12 [==============================] - 0s 7ms/step - loss: 50.6202 - val_loss: 93.6132\n",
      "Epoch 21/100\n",
      "12/12 [==============================] - 0s 9ms/step - loss: 47.8424 - val_loss: 98.8685\n",
      "Epoch 22/100\n",
      "12/12 [==============================] - 0s 9ms/step - loss: 48.5428 - val_loss: 96.3614\n",
      "Epoch 23/100\n",
      "12/12 [==============================] - 0s 10ms/step - loss: 45.4892 - val_loss: 94.6414\n",
      "Epoch 24/100\n",
      "12/12 [==============================] - 0s 10ms/step - loss: 44.9702 - val_loss: 89.8979\n",
      "Epoch 25/100\n",
      "12/12 [==============================] - 0s 8ms/step - loss: 44.5040 - val_loss: 83.3204\n",
      "Epoch 26/100\n",
      "12/12 [==============================] - 0s 11ms/step - loss: 42.9203 - val_loss: 83.7613\n",
      "Epoch 27/100\n",
      "12/12 [==============================] - 0s 8ms/step - loss: 41.5956 - val_loss: 90.8605\n",
      "Epoch 28/100\n",
      "12/12 [==============================] - 0s 6ms/step - loss: 40.6311 - val_loss: 81.5682\n",
      "Epoch 29/100\n",
      "12/12 [==============================] - 0s 7ms/step - loss: 39.2639 - val_loss: 80.5620\n",
      "Epoch 30/100\n",
      "12/12 [==============================] - 0s 7ms/step - loss: 38.9558 - val_loss: 76.4603\n",
      "Epoch 31/100\n",
      "12/12 [==============================] - 0s 10ms/step - loss: 38.6563 - val_loss: 77.4929\n",
      "Epoch 32/100\n",
      "12/12 [==============================] - 0s 11ms/step - loss: 38.2455 - val_loss: 76.4041\n",
      "Epoch 33/100\n",
      "12/12 [==============================] - 0s 9ms/step - loss: 36.5269 - val_loss: 73.5110\n",
      "Epoch 34/100\n",
      "12/12 [==============================] - 0s 11ms/step - loss: 37.7113 - val_loss: 74.0003\n",
      "Epoch 35/100\n",
      "12/12 [==============================] - 0s 10ms/step - loss: 38.0605 - val_loss: 72.1780\n",
      "Epoch 36/100\n",
      "12/12 [==============================] - 0s 11ms/step - loss: 39.1273 - val_loss: 72.8935\n",
      "Epoch 37/100\n",
      "12/12 [==============================] - 0s 11ms/step - loss: 42.6903 - val_loss: 73.9195\n",
      "Epoch 38/100\n",
      "12/12 [==============================] - 0s 6ms/step - loss: 41.3553 - val_loss: 69.1303\n",
      "Epoch 39/100\n",
      "12/12 [==============================] - 0s 8ms/step - loss: 36.5094 - val_loss: 71.8891\n",
      "Epoch 40/100\n",
      "12/12 [==============================] - 0s 8ms/step - loss: 33.9303 - val_loss: 69.9168\n",
      "Epoch 41/100\n",
      "12/12 [==============================] - 0s 10ms/step - loss: 33.1405 - val_loss: 71.6142\n",
      "Epoch 42/100\n",
      "12/12 [==============================] - 0s 12ms/step - loss: 33.7220 - val_loss: 68.0102\n",
      "Epoch 43/100\n",
      "12/12 [==============================] - 0s 11ms/step - loss: 32.5753 - val_loss: 71.3195\n",
      "Epoch 44/100\n",
      "12/12 [==============================] - 0s 10ms/step - loss: 31.7530 - val_loss: 70.8995\n",
      "Epoch 45/100\n",
      "12/12 [==============================] - 0s 8ms/step - loss: 32.8072 - val_loss: 67.7132\n",
      "Epoch 46/100\n",
      "12/12 [==============================] - 0s 7ms/step - loss: 34.3687 - val_loss: 73.7567\n",
      "Epoch 47/100\n",
      "12/12 [==============================] - 0s 8ms/step - loss: 34.0279 - val_loss: 74.0542\n",
      "Epoch 48/100\n",
      "12/12 [==============================] - 0s 7ms/step - loss: 31.8295 - val_loss: 80.8449\n",
      "Epoch 49/100\n",
      "12/12 [==============================] - 0s 6ms/step - loss: 32.3601 - val_loss: 81.9864\n",
      "Epoch 50/100\n",
      "12/12 [==============================] - 0s 7ms/step - loss: 32.0187 - val_loss: 71.6269\n",
      "Epoch 51/100\n",
      "12/12 [==============================] - 0s 7ms/step - loss: 31.2220 - val_loss: 65.4230\n",
      "Epoch 52/100\n",
      "12/12 [==============================] - 0s 8ms/step - loss: 30.9831 - val_loss: 72.2946\n",
      "Epoch 53/100\n",
      "12/12 [==============================] - 0s 8ms/step - loss: 31.0231 - val_loss: 66.2134\n",
      "Epoch 54/100\n",
      "12/12 [==============================] - 0s 7ms/step - loss: 30.8025 - val_loss: 67.0672\n",
      "Epoch 55/100\n",
      "12/12 [==============================] - 0s 7ms/step - loss: 32.0740 - val_loss: 66.8281\n",
      "Epoch 56/100\n",
      "12/12 [==============================] - 0s 6ms/step - loss: 30.9227 - val_loss: 65.8168\n",
      "Epoch 57/100\n",
      "12/12 [==============================] - 0s 6ms/step - loss: 30.1118 - val_loss: 76.2118\n",
      "Epoch 58/100\n",
      "12/12 [==============================] - 0s 6ms/step - loss: 30.8101 - val_loss: 88.1627\n",
      "Epoch 59/100\n",
      "12/12 [==============================] - 0s 7ms/step - loss: 31.0119 - val_loss: 93.6199\n",
      "Epoch 60/100\n",
      "12/12 [==============================] - 0s 6ms/step - loss: 29.8347 - val_loss: 73.4218\n",
      "Epoch 61/100\n",
      "12/12 [==============================] - 0s 6ms/step - loss: 28.9813 - val_loss: 82.3946\n",
      "Epoch 62/100\n",
      "12/12 [==============================] - 0s 6ms/step - loss: 28.4745 - val_loss: 73.7710\n",
      "Epoch 63/100\n",
      "12/12 [==============================] - 0s 6ms/step - loss: 28.7376 - val_loss: 72.8645\n",
      "Epoch 64/100\n",
      "12/12 [==============================] - 0s 6ms/step - loss: 28.6545 - val_loss: 65.5412\n",
      "Epoch 65/100\n",
      "12/12 [==============================] - 0s 6ms/step - loss: 30.1656 - val_loss: 65.7009\n",
      "Epoch 66/100\n",
      "12/12 [==============================] - 0s 6ms/step - loss: 27.7035 - val_loss: 70.9226\n",
      "Epoch 67/100\n",
      "12/12 [==============================] - 0s 6ms/step - loss: 27.9149 - val_loss: 90.8354\n",
      "Epoch 68/100\n",
      "12/12 [==============================] - 0s 6ms/step - loss: 28.6502 - val_loss: 106.8998\n",
      "Epoch 69/100\n",
      "12/12 [==============================] - 0s 6ms/step - loss: 31.9792 - val_loss: 67.5758\n",
      "Epoch 70/100\n",
      "12/12 [==============================] - 0s 6ms/step - loss: 28.8647 - val_loss: 72.5761\n",
      "Epoch 71/100\n",
      "12/12 [==============================] - 0s 6ms/step - loss: 26.4623 - val_loss: 76.9170\n",
      "Epoch 72/100\n",
      "12/12 [==============================] - 0s 6ms/step - loss: 27.4520 - val_loss: 89.8965\n",
      "Epoch 73/100\n",
      "12/12 [==============================] - 0s 7ms/step - loss: 32.5831 - val_loss: 89.0806\n",
      "Epoch 74/100\n",
      "12/12 [==============================] - 0s 7ms/step - loss: 29.0103 - val_loss: 65.7849\n",
      "Epoch 75/100\n",
      "12/12 [==============================] - 0s 7ms/step - loss: 29.9464 - val_loss: 74.0805\n",
      "Epoch 76/100\n",
      "12/12 [==============================] - 0s 10ms/step - loss: 27.3304 - val_loss: 84.3193\n",
      "Epoch 77/100\n",
      "12/12 [==============================] - 0s 7ms/step - loss: 27.7983 - val_loss: 73.2454\n",
      "Epoch 78/100\n",
      "12/12 [==============================] - 0s 6ms/step - loss: 27.1101 - val_loss: 68.6965\n",
      "Epoch 79/100\n",
      "12/12 [==============================] - 0s 10ms/step - loss: 27.1388 - val_loss: 85.4910\n",
      "Epoch 80/100\n",
      "12/12 [==============================] - 0s 7ms/step - loss: 26.5963 - val_loss: 88.9456\n",
      "Epoch 81/100\n"
     ]
    },
    {
     "name": "stdout",
     "output_type": "stream",
     "text": [
      "12/12 [==============================] - 0s 8ms/step - loss: 27.0311 - val_loss: 75.0891\n",
      "Epoch 82/100\n",
      "12/12 [==============================] - 0s 6ms/step - loss: 26.9926 - val_loss: 73.2372\n",
      "Epoch 83/100\n",
      "12/12 [==============================] - 0s 6ms/step - loss: 27.0277 - val_loss: 87.4025\n",
      "Epoch 84/100\n",
      "12/12 [==============================] - 0s 7ms/step - loss: 28.3312 - val_loss: 88.7504\n",
      "Epoch 85/100\n",
      "12/12 [==============================] - 0s 11ms/step - loss: 27.7018 - val_loss: 72.1224\n",
      "Epoch 86/100\n",
      "12/12 [==============================] - 0s 7ms/step - loss: 25.9979 - val_loss: 75.3438\n",
      "Epoch 87/100\n",
      "12/12 [==============================] - 0s 5ms/step - loss: 25.7181 - val_loss: 80.0217\n",
      "Epoch 88/100\n",
      "12/12 [==============================] - 0s 6ms/step - loss: 25.4689 - val_loss: 69.6886\n",
      "Epoch 89/100\n",
      "12/12 [==============================] - 0s 7ms/step - loss: 26.5518 - val_loss: 68.4069\n",
      "Epoch 90/100\n",
      "12/12 [==============================] - 0s 6ms/step - loss: 32.6655 - val_loss: 63.6800\n",
      "Epoch 91/100\n",
      "12/12 [==============================] - 0s 6ms/step - loss: 29.0590 - val_loss: 95.7674\n",
      "Epoch 92/100\n",
      "12/12 [==============================] - 0s 6ms/step - loss: 28.6483 - val_loss: 82.1927\n",
      "Epoch 93/100\n",
      "12/12 [==============================] - 0s 7ms/step - loss: 27.6274 - val_loss: 66.5971\n",
      "Epoch 94/100\n",
      "12/12 [==============================] - 0s 7ms/step - loss: 26.3922 - val_loss: 79.6390\n",
      "Epoch 95/100\n",
      "12/12 [==============================] - 0s 7ms/step - loss: 24.9295 - val_loss: 74.6733\n",
      "Epoch 96/100\n",
      "12/12 [==============================] - 0s 10ms/step - loss: 25.8687 - val_loss: 78.8275\n",
      "Epoch 97/100\n",
      "12/12 [==============================] - 0s 10ms/step - loss: 25.3340 - val_loss: 64.5562\n",
      "Epoch 98/100\n",
      "12/12 [==============================] - 0s 7ms/step - loss: 25.7191 - val_loss: 72.9823\n",
      "Epoch 99/100\n",
      "12/12 [==============================] - 0s 7ms/step - loss: 24.8907 - val_loss: 71.6038\n",
      "Epoch 100/100\n",
      "12/12 [==============================] - 0s 7ms/step - loss: 24.5666 - val_loss: 73.3662\n"
     ]
    }
   ],
   "source": [
    "history = model.fit(X_train, y_train, epochs=100, validation_split=0.05, verbose = 1)"
   ]
  },
  {
   "cell_type": "code",
   "execution_count": 20,
   "metadata": {
    "colab": {
     "base_uri": "https://localhost:8080/"
    },
    "id": "3uH8kFnx317C",
    "outputId": "2fb39e5a-7bc8-4ea2-d9af-d43dd3a0082f"
   },
   "outputs": [
    {
     "name": "stdout",
     "output_type": "stream",
     "text": [
      "4/4 [==============================] - 0s 4ms/step - loss: 33.6996\n",
      "Mean squared error on test data:  33.69963836669922\n"
     ]
    }
   ],
   "source": [
    "mse = model.evaluate(X_test, y_test)\n",
    "print('Mean squared error on test data: ', mse)"
   ]
  },
  {
   "cell_type": "code",
   "execution_count": 21,
   "metadata": {},
   "outputs": [
    {
     "data": {
      "image/png": "[encoded data removed]",
      "text/plain": [
       "<Figure size 600x400 with 1 Axes>"
      ]
     },
     "metadata": {},
     "output_type": "display_data"
    }
   ],
   "source": [
    "# Plot the loss curves\n",
    "pd.DataFrame(history.history).plot(figsize=(6, 4), xlabel=\"Epochs\", ylabel=\"Loss\", title='Loss Curves')\n",
    "plt.show()"
   ]
  },
  {
   "cell_type": "code",
   "execution_count": 22,
   "metadata": {
    "colab": {
     "base_uri": "https://localhost:8080/"
    },
    "id": "8swEKNyFyXdQ",
    "outputId": "18778981-1879-40a6-e2c7-69cb4d63babb"
   },
   "outputs": [
    {
     "name": "stdout",
     "output_type": "stream",
     "text": [
      "4/4 [==============================] - 0s 0s/step\n"
     ]
    }
   ],
   "source": [
    "y_pred = model.predict(X_test)"
   ]
  },
  {
   "cell_type": "code",
   "execution_count": 23,
   "metadata": {
    "colab": {
     "base_uri": "https://localhost:8080/"
    },
    "id": "1Ai5cqioyfpK",
    "outputId": "9a83cdae-c5cd-431c-e609-058f5e4dd94e"
   },
   "outputs": [
    {
     "data": {
      "text/plain": [
       "5.805139638863055"
      ]
     },
     "execution_count": 23,
     "metadata": {},
     "output_type": "execute_result"
    }
   ],
   "source": [
    "mse = mean_squared_error(y_test, y_pred)**(0.5)\n",
    "mse"
   ]
  },
  {
   "cell_type": "code",
   "execution_count": 24,
   "metadata": {},
   "outputs": [
    {
     "name": "stdout",
     "output_type": "stream",
     "text": [
      "1/1 [==============================] - 0s 106ms/step\n",
      "Actual predicted values: [[26.159876]]\n"
     ]
    }
   ],
   "source": [
    "new_inputs = np.array([[0.006, 18, 2.3,0,0.53,6.5,65.2,4.0,1,296,15,396.9,4.98]])\n",
    "inp = np.array([[0.02731,0.0,7.07,0.0,0.469,6.421,78.9,4.9671,2,242,17.8,396.90,9.14]])\n",
    "predictions = model.predict(inp)\n",
    "print(\"Actual predicted values:\", predictions)\n"
   ]
  },
  {
   "cell_type": "code",
   "execution_count": null,
   "metadata": {},
   "outputs": [],
   "source": []
  }
 ],
 "metadata": {
  "colab": {
   "provenance": []
  },
  "kernelspec": {
   "display_name": "Python 3 (ipykernel)",
   "language": "python",
   "name": "python3"
  },
  "language_info": {
   "codemirror_mode": {
    "name": "ipython",
    "version": 3
   },
   "file_extension": ".py",
   "mimetype": "text/x-python",
   "name": "python",
   "nbconvert_exporter": "python",
   "pygments_lexer": "ipython3",
   "version": "3.10.11"
  }
 },
 "nbformat": 4,
 "nbformat_minor": 1
}
