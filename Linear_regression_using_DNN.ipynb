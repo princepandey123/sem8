{
 "cells": [
  {
   "cell_type": "code",
   "execution_count": 29,
   "metadata": {
    "id": "642bSOecxDcf"
   },
   "outputs": [],
   "source": [
    "import tensorflow as tf\n",
    "import numpy as np\n",
    "import pandas as pd\n",
    "\n",
    "from sklearn import preprocessing\n",
    "from sklearn.model_selection import train_test_split\n",
    "from sklearn.metrics import mean_squared_error\n",
    "\n",
    "from sklearn.model_selection import train_test_split\n",
    "from sklearn.preprocessing import StandardScaler\n",
    "from keras.models import Sequential\n",
    "from keras.layers import Dense"
   ]
  },
  {
   "cell_type": "code",
   "execution_count": 30,
   "metadata": {
    "colab": {
     "base_uri": "https://localhost:8080/",
     "height": 363
    },
    "id": "JHep43E-x7kk",
    "outputId": "94647457-9538-4b1d-9757-eaf32084cced"
   },
   "outputs": [
    {
     "data": {
      "text/html": [
       "<div>\n",
       "<style scoped>\n",
       "    .dataframe tbody tr th:only-of-type {\n",
       "        vertical-align: middle;\n",
       "    }\n",
       "\n",
       "    .dataframe tbody tr th {\n",
       "        vertical-align: top;\n",
       "    }\n",
       "\n",
       "    .dataframe thead th {\n",
       "        text-align: right;\n",
       "    }\n",
       "</style>\n",
       "<table border=\"1\" class=\"dataframe\">\n",
       "  <thead>\n",
       "    <tr style=\"text-align: right;\">\n",
       "      <th></th>\n",
       "      <th>CRIM</th>\n",
       "      <th>ZN</th>\n",
       "      <th>INDUS</th>\n",
       "      <th>CHAS</th>\n",
       "      <th>NOX</th>\n",
       "      <th>RM</th>\n",
       "      <th>AGE</th>\n",
       "      <th>DIS</th>\n",
       "      <th>RAD</th>\n",
       "      <th>TAX</th>\n",
       "      <th>PTRATIO</th>\n",
       "      <th>B</th>\n",
       "      <th>LSTAT</th>\n",
       "      <th>MEDV</th>\n",
       "    </tr>\n",
       "  </thead>\n",
       "  <tbody>\n",
       "    <tr>\n",
       "      <th>0</th>\n",
       "      <td>0.00632</td>\n",
       "      <td>18.0</td>\n",
       "      <td>2.31</td>\n",
       "      <td>0.0</td>\n",
       "      <td>0.538</td>\n",
       "      <td>6.575</td>\n",
       "      <td>65.2</td>\n",
       "      <td>4.0900</td>\n",
       "      <td>1</td>\n",
       "      <td>296</td>\n",
       "      <td>15.3</td>\n",
       "      <td>396.90</td>\n",
       "      <td>4.98</td>\n",
       "      <td>24.0</td>\n",
       "    </tr>\n",
       "    <tr>\n",
       "      <th>1</th>\n",
       "      <td>0.02731</td>\n",
       "      <td>0.0</td>\n",
       "      <td>7.07</td>\n",
       "      <td>0.0</td>\n",
       "      <td>0.469</td>\n",
       "      <td>6.421</td>\n",
       "      <td>78.9</td>\n",
       "      <td>4.9671</td>\n",
       "      <td>2</td>\n",
       "      <td>242</td>\n",
       "      <td>17.8</td>\n",
       "      <td>396.90</td>\n",
       "      <td>9.14</td>\n",
       "      <td>21.6</td>\n",
       "    </tr>\n",
       "    <tr>\n",
       "      <th>2</th>\n",
       "      <td>0.02729</td>\n",
       "      <td>0.0</td>\n",
       "      <td>7.07</td>\n",
       "      <td>0.0</td>\n",
       "      <td>0.469</td>\n",
       "      <td>7.185</td>\n",
       "      <td>61.1</td>\n",
       "      <td>4.9671</td>\n",
       "      <td>2</td>\n",
       "      <td>242</td>\n",
       "      <td>17.8</td>\n",
       "      <td>392.83</td>\n",
       "      <td>4.03</td>\n",
       "      <td>34.7</td>\n",
       "    </tr>\n",
       "    <tr>\n",
       "      <th>3</th>\n",
       "      <td>0.03237</td>\n",
       "      <td>0.0</td>\n",
       "      <td>2.18</td>\n",
       "      <td>0.0</td>\n",
       "      <td>0.458</td>\n",
       "      <td>6.998</td>\n",
       "      <td>45.8</td>\n",
       "      <td>6.0622</td>\n",
       "      <td>3</td>\n",
       "      <td>222</td>\n",
       "      <td>18.7</td>\n",
       "      <td>394.63</td>\n",
       "      <td>2.94</td>\n",
       "      <td>33.4</td>\n",
       "    </tr>\n",
       "    <tr>\n",
       "      <th>4</th>\n",
       "      <td>0.06905</td>\n",
       "      <td>0.0</td>\n",
       "      <td>2.18</td>\n",
       "      <td>0.0</td>\n",
       "      <td>0.458</td>\n",
       "      <td>7.147</td>\n",
       "      <td>54.2</td>\n",
       "      <td>6.0622</td>\n",
       "      <td>3</td>\n",
       "      <td>222</td>\n",
       "      <td>18.7</td>\n",
       "      <td>396.90</td>\n",
       "      <td>NaN</td>\n",
       "      <td>36.2</td>\n",
       "    </tr>\n",
       "  </tbody>\n",
       "</table>\n",
       "</div>"
      ],
      "text/plain": [
       "      CRIM    ZN  INDUS  CHAS    NOX     RM   AGE     DIS  RAD  TAX  PTRATIO   \n",
       "0  0.00632  18.0   2.31   0.0  0.538  6.575  65.2  4.0900    1  296     15.3  \\\n",
       "1  0.02731   0.0   7.07   0.0  0.469  6.421  78.9  4.9671    2  242     17.8   \n",
       "2  0.02729   0.0   7.07   0.0  0.469  7.185  61.1  4.9671    2  242     17.8   \n",
       "3  0.03237   0.0   2.18   0.0  0.458  6.998  45.8  6.0622    3  222     18.7   \n",
       "4  0.06905   0.0   2.18   0.0  0.458  7.147  54.2  6.0622    3  222     18.7   \n",
       "\n",
       "        B  LSTAT  MEDV  \n",
       "0  396.90   4.98  24.0  \n",
       "1  396.90   9.14  21.6  \n",
       "2  392.83   4.03  34.7  \n",
       "3  394.63   2.94  33.4  \n",
       "4  396.90    NaN  36.2  "
      ]
     },
     "execution_count": 30,
     "metadata": {},
     "output_type": "execute_result"
    }
   ],
   "source": [
    "df = pd.read_csv(r'HousingData.csv')\n",
    "df.head(5)"
   ]
  },
  {
   "cell_type": "code",
   "execution_count": 31,
   "metadata": {
    "colab": {
     "base_uri": "https://localhost:8080/"
    },
    "id": "eK_JRSl03_wj",
    "outputId": "39bca078-2b2d-42ba-adfa-af3f61797a72"
   },
   "outputs": [
    {
     "data": {
      "text/plain": [
       "CRIM       20\n",
       "ZN         20\n",
       "INDUS      20\n",
       "CHAS       20\n",
       "NOX         0\n",
       "RM          0\n",
       "AGE        20\n",
       "DIS         0\n",
       "RAD         0\n",
       "TAX         0\n",
       "PTRATIO     0\n",
       "B           0\n",
       "LSTAT      20\n",
       "MEDV        0\n",
       "dtype: int64"
      ]
     },
     "execution_count": 31,
     "metadata": {},
     "output_type": "execute_result"
    }
   ],
   "source": [
    "df.isnull().sum()"
   ]
  },
  {
   "cell_type": "code",
   "execution_count": 32,
   "metadata": {
    "id": "Afpk5CC0y9b9"
   },
   "outputs": [],
   "source": [
    "df = df.fillna(df.mean())"
   ]
  },
  {
   "cell_type": "code",
   "execution_count": 33,
   "metadata": {
    "colab": {
     "base_uri": "https://localhost:8080/"
    },
    "id": "leDzLvIQzAMl",
    "outputId": "cc2bc552-bb4f-4863-8d0d-b112c59cb009"
   },
   "outputs": [
    {
     "data": {
      "text/plain": [
       "CRIM       0\n",
       "ZN         0\n",
       "INDUS      0\n",
       "CHAS       0\n",
       "NOX        0\n",
       "RM         0\n",
       "AGE        0\n",
       "DIS        0\n",
       "RAD        0\n",
       "TAX        0\n",
       "PTRATIO    0\n",
       "B          0\n",
       "LSTAT      0\n",
       "MEDV       0\n",
       "dtype: int64"
      ]
     },
     "execution_count": 33,
     "metadata": {},
     "output_type": "execute_result"
    }
   ],
   "source": [
    "df.isnull().sum()"
   ]
  },
  {
   "cell_type": "code",
   "execution_count": 34,
   "metadata": {
    "id": "lldSDwHh3WzH"
   },
   "outputs": [],
   "source": [
    "X=df.iloc[:,df.columns!='MEDV']\n",
    "y=df.iloc[:,df.columns=='MEDV']\n",
    "\n",
    "\n",
    "X_train, X_test, y_train, y_test = train_test_split(X, y, test_size=0.2, random_state=123)"
   ]
  },
  {
   "cell_type": "code",
   "execution_count": 35,
   "metadata": {
    "colab": {
     "base_uri": "https://localhost:8080/"
    },
    "id": "yq5NjVaQy5GG",
    "outputId": "171cebbc-38bc-44b9-8348-b8caf52f2f47"
   },
   "outputs": [
    {
     "name": "stdout",
     "output_type": "stream",
     "text": [
      "Model: \"sequential_1\"\n",
      "_________________________________________________________________\n",
      " Layer (type)                Output Shape              Param #   \n",
      "=================================================================\n",
      " dense_1 (Dense)             (None, 128)               1792      \n",
      "                                                                 \n",
      " dense_2 (Dense)             (None, 64)                8256      \n",
      "                                                                 \n",
      " dense_output (Dense)        (None, 1)                 65        \n",
      "                                                                 \n",
      "=================================================================\n",
      "Total params: 10,113\n",
      "Trainable params: 10,113\n",
      "Non-trainable params: 0\n",
      "_________________________________________________________________\n"
     ]
    }
   ],
   "source": [
    "model = Sequential()\n",
    "\n",
    "model.add(Dense(128, input_shape=(13, ), activation='relu', name='dense_1'))\n",
    "model.add(Dense(64, activation='relu', name='dense_2'))\n",
    "model.add(Dense(1, activation='linear', name='dense_output'))\n",
    "\n",
    "model.compile(optimizer='adam', loss='mean_squared_error')\n",
    "model.summary()"
   ]
  },
  {
   "cell_type": "code",
   "execution_count": 36,
   "metadata": {
    "colab": {
     "base_uri": "https://localhost:8080/"
    },
    "id": "OiP4Pyxcy7Ag",
    "outputId": "c300130c-1f42-42d3-a51f-6fa3f3da3051"
   },
   "outputs": [
    {
     "name": "stdout",
     "output_type": "stream",
     "text": [
      "Epoch 1/100\n",
      "12/12 [==============================] - 2s 26ms/step - loss: 326.0547 - val_loss: 241.2341\n",
      "Epoch 2/100\n",
      "12/12 [==============================] - 0s 8ms/step - loss: 112.5839 - val_loss: 116.6652\n",
      "Epoch 3/100\n",
      "12/12 [==============================] - 0s 7ms/step - loss: 79.2656 - val_loss: 112.9948\n",
      "Epoch 4/100\n",
      "12/12 [==============================] - 0s 5ms/step - loss: 75.0848 - val_loss: 146.5884\n",
      "Epoch 5/100\n",
      "12/12 [==============================] - 0s 6ms/step - loss: 66.9371 - val_loss: 95.4977\n",
      "Epoch 6/100\n",
      "12/12 [==============================] - 0s 7ms/step - loss: 55.8248 - val_loss: 95.6076\n",
      "Epoch 7/100\n",
      "12/12 [==============================] - 0s 6ms/step - loss: 56.0050 - val_loss: 94.7620\n",
      "Epoch 8/100\n",
      "12/12 [==============================] - 0s 8ms/step - loss: 54.3653 - val_loss: 95.8537\n",
      "Epoch 9/100\n",
      "12/12 [==============================] - 0s 6ms/step - loss: 53.4740 - val_loss: 92.3282\n",
      "Epoch 10/100\n",
      "12/12 [==============================] - 0s 7ms/step - loss: 51.7141 - val_loss: 99.6828\n",
      "Epoch 11/100\n",
      "12/12 [==============================] - 0s 5ms/step - loss: 53.8268 - val_loss: 87.9596\n",
      "Epoch 12/100\n",
      "12/12 [==============================] - 0s 6ms/step - loss: 48.7516 - val_loss: 84.9672\n",
      "Epoch 13/100\n",
      "12/12 [==============================] - 0s 6ms/step - loss: 45.5281 - val_loss: 82.7777\n",
      "Epoch 14/100\n",
      "12/12 [==============================] - 0s 6ms/step - loss: 48.6735 - val_loss: 87.1372\n",
      "Epoch 15/100\n",
      "12/12 [==============================] - 0s 8ms/step - loss: 45.5627 - val_loss: 81.5493\n",
      "Epoch 16/100\n",
      "12/12 [==============================] - 0s 9ms/step - loss: 51.9947 - val_loss: 93.6791\n",
      "Epoch 17/100\n",
      "12/12 [==============================] - 0s 6ms/step - loss: 47.4547 - val_loss: 79.5307\n",
      "Epoch 18/100\n",
      "12/12 [==============================] - 0s 6ms/step - loss: 39.6933 - val_loss: 86.7899\n",
      "Epoch 19/100\n",
      "12/12 [==============================] - 0s 7ms/step - loss: 40.4008 - val_loss: 74.8166\n",
      "Epoch 20/100\n",
      "12/12 [==============================] - 0s 5ms/step - loss: 40.5452 - val_loss: 72.7661\n",
      "Epoch 21/100\n",
      "12/12 [==============================] - 0s 5ms/step - loss: 38.6488 - val_loss: 69.0501\n",
      "Epoch 22/100\n",
      "12/12 [==============================] - 0s 6ms/step - loss: 37.6082 - val_loss: 72.1224\n",
      "Epoch 23/100\n",
      "12/12 [==============================] - 0s 6ms/step - loss: 38.9677 - val_loss: 71.8900\n",
      "Epoch 24/100\n",
      "12/12 [==============================] - 0s 6ms/step - loss: 48.7095 - val_loss: 89.2303\n",
      "Epoch 25/100\n",
      "12/12 [==============================] - 0s 6ms/step - loss: 37.6500 - val_loss: 72.7555\n",
      "Epoch 26/100\n",
      "12/12 [==============================] - 0s 8ms/step - loss: 36.3144 - val_loss: 73.3617\n",
      "Epoch 27/100\n",
      "12/12 [==============================] - 0s 8ms/step - loss: 34.4702 - val_loss: 70.0756\n",
      "Epoch 28/100\n",
      "12/12 [==============================] - 0s 8ms/step - loss: 33.4902 - val_loss: 75.0507\n",
      "Epoch 29/100\n",
      "12/12 [==============================] - 0s 6ms/step - loss: 35.3530 - val_loss: 66.4531\n",
      "Epoch 30/100\n",
      "12/12 [==============================] - 0s 6ms/step - loss: 44.1818 - val_loss: 127.7060\n",
      "Epoch 31/100\n",
      "12/12 [==============================] - 0s 6ms/step - loss: 47.6037 - val_loss: 67.5273\n",
      "Epoch 32/100\n",
      "12/12 [==============================] - 0s 6ms/step - loss: 38.3629 - val_loss: 73.3604\n",
      "Epoch 33/100\n",
      "12/12 [==============================] - 0s 7ms/step - loss: 33.6449 - val_loss: 74.8332\n",
      "Epoch 34/100\n",
      "12/12 [==============================] - 0s 7ms/step - loss: 33.2956 - val_loss: 70.7599\n",
      "Epoch 35/100\n",
      "12/12 [==============================] - 0s 7ms/step - loss: 38.2359 - val_loss: 92.8597\n",
      "Epoch 36/100\n",
      "12/12 [==============================] - 0s 7ms/step - loss: 39.7664 - val_loss: 63.3767\n",
      "Epoch 37/100\n",
      "12/12 [==============================] - 0s 6ms/step - loss: 34.5555 - val_loss: 64.3371\n",
      "Epoch 38/100\n",
      "12/12 [==============================] - 0s 8ms/step - loss: 33.0521 - val_loss: 83.6656\n",
      "Epoch 39/100\n",
      "12/12 [==============================] - 0s 11ms/step - loss: 33.9613 - val_loss: 93.2491\n",
      "Epoch 40/100\n",
      "12/12 [==============================] - 0s 9ms/step - loss: 34.3532 - val_loss: 72.0072\n",
      "Epoch 41/100\n",
      "12/12 [==============================] - 0s 6ms/step - loss: 37.3036 - val_loss: 94.7397\n",
      "Epoch 42/100\n",
      "12/12 [==============================] - 0s 8ms/step - loss: 29.5313 - val_loss: 79.1770\n",
      "Epoch 43/100\n",
      "12/12 [==============================] - 0s 9ms/step - loss: 29.5334 - val_loss: 66.5321\n",
      "Epoch 44/100\n",
      "12/12 [==============================] - 0s 8ms/step - loss: 31.4031 - val_loss: 85.2600\n",
      "Epoch 45/100\n",
      "12/12 [==============================] - 0s 9ms/step - loss: 30.4966 - val_loss: 88.9605\n",
      "Epoch 46/100\n",
      "12/12 [==============================] - 0s 13ms/step - loss: 30.0888 - val_loss: 62.2297\n",
      "Epoch 47/100\n",
      "12/12 [==============================] - 0s 7ms/step - loss: 32.0496 - val_loss: 80.6608\n",
      "Epoch 48/100\n",
      "12/12 [==============================] - 0s 6ms/step - loss: 30.0905 - val_loss: 74.7469\n",
      "Epoch 49/100\n",
      "12/12 [==============================] - 0s 6ms/step - loss: 27.5994 - val_loss: 64.7853\n",
      "Epoch 50/100\n",
      "12/12 [==============================] - 0s 7ms/step - loss: 30.3790 - val_loss: 64.7156\n",
      "Epoch 51/100\n",
      "12/12 [==============================] - 0s 6ms/step - loss: 30.8538 - val_loss: 68.3657\n",
      "Epoch 52/100\n",
      "12/12 [==============================] - 0s 10ms/step - loss: 34.5212 - val_loss: 85.7827\n",
      "Epoch 53/100\n",
      "12/12 [==============================] - 0s 11ms/step - loss: 28.8290 - val_loss: 64.0904\n",
      "Epoch 54/100\n",
      "12/12 [==============================] - 0s 6ms/step - loss: 29.7157 - val_loss: 74.9093\n",
      "Epoch 55/100\n",
      "12/12 [==============================] - 0s 6ms/step - loss: 28.1095 - val_loss: 72.0684\n",
      "Epoch 56/100\n",
      "12/12 [==============================] - 0s 6ms/step - loss: 29.2723 - val_loss: 73.4621\n",
      "Epoch 57/100\n",
      "12/12 [==============================] - 0s 6ms/step - loss: 33.6064 - val_loss: 66.6149\n",
      "Epoch 58/100\n",
      "12/12 [==============================] - 0s 6ms/step - loss: 28.7250 - val_loss: 68.6387\n",
      "Epoch 59/100\n",
      "12/12 [==============================] - 0s 6ms/step - loss: 28.3480 - val_loss: 59.4017\n",
      "Epoch 60/100\n",
      "12/12 [==============================] - 0s 6ms/step - loss: 29.5471 - val_loss: 82.9798\n",
      "Epoch 61/100\n",
      "12/12 [==============================] - 0s 6ms/step - loss: 27.3235 - val_loss: 71.8961\n",
      "Epoch 62/100\n",
      "12/12 [==============================] - 0s 6ms/step - loss: 27.9458 - val_loss: 78.0044\n",
      "Epoch 63/100\n",
      "12/12 [==============================] - 0s 6ms/step - loss: 31.2526 - val_loss: 59.4538\n",
      "Epoch 64/100\n",
      "12/12 [==============================] - 0s 7ms/step - loss: 31.3654 - val_loss: 87.1897\n",
      "Epoch 65/100\n",
      "12/12 [==============================] - 0s 9ms/step - loss: 30.8018 - val_loss: 78.1717\n",
      "Epoch 66/100\n",
      "12/12 [==============================] - 0s 10ms/step - loss: 26.3001 - val_loss: 68.2796\n",
      "Epoch 67/100\n",
      "12/12 [==============================] - 0s 11ms/step - loss: 25.1848 - val_loss: 65.5121\n",
      "Epoch 68/100\n",
      "12/12 [==============================] - 0s 8ms/step - loss: 26.4771 - val_loss: 57.8754\n",
      "Epoch 69/100\n",
      "12/12 [==============================] - 0s 6ms/step - loss: 26.5578 - val_loss: 60.8480\n",
      "Epoch 70/100\n",
      "12/12 [==============================] - 0s 6ms/step - loss: 25.8270 - val_loss: 65.3503\n",
      "Epoch 71/100\n",
      "12/12 [==============================] - 0s 6ms/step - loss: 25.8279 - val_loss: 82.4041\n",
      "Epoch 72/100\n",
      "12/12 [==============================] - 0s 8ms/step - loss: 26.3901 - val_loss: 62.9842\n",
      "Epoch 73/100\n",
      "12/12 [==============================] - 0s 9ms/step - loss: 28.0780 - val_loss: 64.1935\n",
      "Epoch 74/100\n",
      "12/12 [==============================] - 0s 7ms/step - loss: 26.1804 - val_loss: 75.4641\n",
      "Epoch 75/100\n",
      "12/12 [==============================] - 0s 6ms/step - loss: 26.4130 - val_loss: 69.8005\n",
      "Epoch 76/100\n",
      "12/12 [==============================] - 0s 6ms/step - loss: 25.7068 - val_loss: 78.4461\n",
      "Epoch 77/100\n",
      "12/12 [==============================] - 0s 7ms/step - loss: 23.7685 - val_loss: 61.3168\n",
      "Epoch 78/100\n",
      "12/12 [==============================] - 0s 7ms/step - loss: 28.5947 - val_loss: 60.1894\n",
      "Epoch 79/100\n",
      "12/12 [==============================] - 0s 11ms/step - loss: 27.3329 - val_loss: 62.4141\n",
      "Epoch 80/100\n",
      "12/12 [==============================] - 0s 11ms/step - loss: 24.6752 - val_loss: 63.6715\n",
      "Epoch 81/100\n"
     ]
    },
    {
     "name": "stdout",
     "output_type": "stream",
     "text": [
      "12/12 [==============================] - 0s 7ms/step - loss: 23.9327 - val_loss: 79.9413\n",
      "Epoch 82/100\n",
      "12/12 [==============================] - 0s 6ms/step - loss: 23.7837 - val_loss: 60.4161\n",
      "Epoch 83/100\n",
      "12/12 [==============================] - 0s 5ms/step - loss: 25.9209 - val_loss: 53.9555\n",
      "Epoch 84/100\n",
      "12/12 [==============================] - 0s 6ms/step - loss: 29.0228 - val_loss: 80.8237\n",
      "Epoch 85/100\n",
      "12/12 [==============================] - 0s 5ms/step - loss: 26.0712 - val_loss: 79.3475\n",
      "Epoch 86/100\n",
      "12/12 [==============================] - 0s 7ms/step - loss: 30.0592 - val_loss: 115.2813\n",
      "Epoch 87/100\n",
      "12/12 [==============================] - 0s 6ms/step - loss: 36.3368 - val_loss: 99.7340\n",
      "Epoch 88/100\n",
      "12/12 [==============================] - 0s 6ms/step - loss: 31.2016 - val_loss: 61.4710\n",
      "Epoch 89/100\n",
      "12/12 [==============================] - 0s 6ms/step - loss: 24.6907 - val_loss: 81.8780\n",
      "Epoch 90/100\n",
      "12/12 [==============================] - 0s 6ms/step - loss: 24.2450 - val_loss: 66.8464\n",
      "Epoch 91/100\n",
      "12/12 [==============================] - 0s 6ms/step - loss: 25.0940 - val_loss: 54.6975\n",
      "Epoch 92/100\n",
      "12/12 [==============================] - 0s 5ms/step - loss: 27.7386 - val_loss: 54.0061\n",
      "Epoch 93/100\n",
      "12/12 [==============================] - 0s 6ms/step - loss: 24.8557 - val_loss: 72.1753\n",
      "Epoch 94/100\n",
      "12/12 [==============================] - 0s 5ms/step - loss: 24.7467 - val_loss: 56.3601\n",
      "Epoch 95/100\n",
      "12/12 [==============================] - 0s 6ms/step - loss: 23.5143 - val_loss: 69.6225\n",
      "Epoch 96/100\n",
      "12/12 [==============================] - 0s 5ms/step - loss: 23.4521 - val_loss: 56.0737\n",
      "Epoch 97/100\n",
      "12/12 [==============================] - 0s 6ms/step - loss: 23.7076 - val_loss: 61.6049\n",
      "Epoch 98/100\n",
      "12/12 [==============================] - 0s 6ms/step - loss: 25.3590 - val_loss: 73.0415\n",
      "Epoch 99/100\n",
      "12/12 [==============================] - 0s 6ms/step - loss: 23.9928 - val_loss: 76.6356\n",
      "Epoch 100/100\n",
      "12/12 [==============================] - 0s 7ms/step - loss: 22.2527 - val_loss: 56.8641\n"
     ]
    }
   ],
   "source": [
    "history = model.fit(X_train, y_train, epochs=100, validation_split=0.05, verbose = 1)"
   ]
  },
  {
   "cell_type": "code",
   "execution_count": 37,
   "metadata": {
    "colab": {
     "base_uri": "https://localhost:8080/"
    },
    "id": "3uH8kFnx317C",
    "outputId": "2fb39e5a-7bc8-4ea2-d9af-d43dd3a0082f"
   },
   "outputs": [
    {
     "name": "stdout",
     "output_type": "stream",
     "text": [
      "4/4 [==============================] - 0s 3ms/step - loss: 32.3946\n",
      "Mean squared error on test data:  32.39457321166992\n"
     ]
    }
   ],
   "source": [
    "mse = model.evaluate(X_test, y_test)\n",
    "print('Mean squared error on test data: ', mse)"
   ]
  },
  {
   "cell_type": "code",
   "execution_count": 38,
   "metadata": {
    "colab": {
     "base_uri": "https://localhost:8080/"
    },
    "id": "8swEKNyFyXdQ",
    "outputId": "18778981-1879-40a6-e2c7-69cb4d63babb"
   },
   "outputs": [
    {
     "name": "stdout",
     "output_type": "stream",
     "text": [
      "4/4 [==============================] - 0s 5ms/step\n"
     ]
    }
   ],
   "source": [
    "y_pred = model.predict(X_test)"
   ]
  },
  {
   "cell_type": "code",
   "execution_count": 39,
   "metadata": {
    "colab": {
     "base_uri": "https://localhost:8080/"
    },
    "id": "1Ai5cqioyfpK",
    "outputId": "9a83cdae-c5cd-431c-e609-058f5e4dd94e"
   },
   "outputs": [
    {
     "data": {
      "text/plain": [
       "5.6916223663751255"
      ]
     },
     "execution_count": 39,
     "metadata": {},
     "output_type": "execute_result"
    }
   ],
   "source": [
    "mse = mean_squared_error(y_test, y_pred)**(0.5)\n",
    "mse"
   ]
  },
  {
   "cell_type": "code",
   "execution_count": 40,
   "metadata": {},
   "outputs": [
    {
     "name": "stdout",
     "output_type": "stream",
     "text": [
      "1/1 [==============================] - 0s 94ms/step\n",
      "Actual predicted values: [[25.998508]]\n"
     ]
    }
   ],
   "source": [
    "new_inputs = np.array([[0.006, 18, 2.3,0,0.53,6.5,65.2,4.0,1,296,15,396.9,4.98]])\n",
    "inp = np.array([[0.02731,0.0,7.07,0.0,0.469,6.421,78.9,4.9671,2,242,17.8,396.90,9.14]])\n",
    "predictions = model.predict(inp)\n",
    "print(\"Actual predicted values:\", predictions)\n"
   ]
  },
  {
   "cell_type": "code",
   "execution_count": null,
   "metadata": {},
   "outputs": [],
   "source": []
  }
 ],
 "metadata": {
  "colab": {
   "provenance": []
  },
  "kernelspec": {
   "display_name": "Python 3 (ipykernel)",
   "language": "python",
   "name": "python3"
  },
  "language_info": {
   "codemirror_mode": {
    "name": "ipython",
    "version": 3
   },
   "file_extension": ".py",
   "mimetype": "text/x-python",
   "name": "python",
   "nbconvert_exporter": "python",
   "pygments_lexer": "ipython3",
   "version": "3.10.11"
  }
 },
 "nbformat": 4,
 "nbformat_minor": 1
}
